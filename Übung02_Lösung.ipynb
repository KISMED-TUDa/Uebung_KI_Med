{
  "nbformat": 4,
  "nbformat_minor": 0,
  "metadata": {
    "colab": {
      "name": "Übung2_Lösung.ipynb",
      "provenance": [],
      "collapsed_sections": [
        "HdY1e9N1YrBz",
        "rKMG_2np1TSb",
        "EWSIBRjY1BDa"
      ]
    },
    "kernelspec": {
      "name": "python3",
      "display_name": "Python 3"
    },
    "language_info": {
      "name": "python"
    }
  },
  "cells": [
    {
      "cell_type": "markdown",
      "metadata": {
        "id": "ce-c-SfEfB1p"
      },
      "source": [
        "# Daten"
      ]
    },
    {
      "cell_type": "markdown",
      "metadata": {
        "id": "HdY1e9N1YrBz"
      },
      "source": [
        "## Datensätze und -quellen\n",
        "In der letzten Übung haben Sie die Grundlagen von Python kennen gelernt und erste Analysen an einem Datensatz vorgenommen. Heute wollen wir darauf aufbauen und uns mehr mit medizinischen Daten auseinandersetzen. Der Datensatz von letzter Woche war von [Kaggle](https://www.kaggle.com/datasets). Kaggle bietet eine der größten öffentlichen Sammlungen von Datensätzen zu allen möglichen Themen und richtet sich explizit an Data Scientists und KI-Forscher. Das Unternehmen veranstaltet regelmäßig Wettbewerbe, bei denen der beste ML-Ansatz gesucht wird. Seit 2017 gehört Kaggle zu Google. \n",
        "\n",
        "Aus der Vorlesung kennen Sie außerdem bereits [PhysioNet](https://physionet.org/). Recherchieren Sie andere mögliche Datenquellen für Medizinische Daten. Lesen Sie den Datensatz *mystery_dataset_ex2.csv* zur genaueren Betrachtung ein und finden Sie den Datensatz online. Machen Sie sich damit vertraut, was die einzelnen Spalten aussagen."
      ]
    },
    {
      "cell_type": "code",
      "metadata": {
        "id": "5IwPZUiU6o0V",
        "colab": {
          "base_uri": "https://localhost:8080/"
        },
        "outputId": "cc29afb5-7842-4b2d-db9a-320ee8a56dd2"
      },
      "source": [
        "from google.colab import drive\n",
        "drive.mount('/content/gdrive')"
      ],
      "execution_count": null,
      "outputs": [
        {
          "output_type": "stream",
          "name": "stdout",
          "text": [
            "Mounted at /content/gdrive\n"
          ]
        }
      ]
    },
    {
      "cell_type": "code",
      "metadata": {
        "id": "rHRGk5hM7RXS",
        "colab": {
          "base_uri": "https://localhost:8080/",
          "height": 419
        },
        "outputId": "840a710a-7392-47ed-f953-da3c5ed46102"
      },
      "source": [
        "import pandas as pd\n",
        "imported_dataset = pd.read_csv('/content/gdrive/MyDrive/mystery_dataset_ex2.csv')\n",
        "imported_dataset"
      ],
      "execution_count": null,
      "outputs": [
        {
          "output_type": "execute_result",
          "data": {
            "text/html": [
              "<div>\n",
              "<style scoped>\n",
              "    .dataframe tbody tr th:only-of-type {\n",
              "        vertical-align: middle;\n",
              "    }\n",
              "\n",
              "    .dataframe tbody tr th {\n",
              "        vertical-align: top;\n",
              "    }\n",
              "\n",
              "    .dataframe thead th {\n",
              "        text-align: right;\n",
              "    }\n",
              "</style>\n",
              "<table border=\"1\" class=\"dataframe\">\n",
              "  <thead>\n",
              "    <tr style=\"text-align: right;\">\n",
              "      <th></th>\n",
              "      <th>age</th>\n",
              "      <th>anaemia</th>\n",
              "      <th>creatinine_phosphokinase</th>\n",
              "      <th>diabetes</th>\n",
              "      <th>ejection_fraction</th>\n",
              "      <th>high_blood_pressure</th>\n",
              "      <th>platelets</th>\n",
              "      <th>serum_creatinine</th>\n",
              "      <th>serum_sodium</th>\n",
              "      <th>sex</th>\n",
              "      <th>smoking</th>\n",
              "      <th>time</th>\n",
              "      <th>DEATH_EVENT</th>\n",
              "    </tr>\n",
              "  </thead>\n",
              "  <tbody>\n",
              "    <tr>\n",
              "      <th>0</th>\n",
              "      <td>75.0</td>\n",
              "      <td>0</td>\n",
              "      <td>582</td>\n",
              "      <td>0</td>\n",
              "      <td>20</td>\n",
              "      <td>1</td>\n",
              "      <td>265000.00</td>\n",
              "      <td>1.9</td>\n",
              "      <td>130</td>\n",
              "      <td>1</td>\n",
              "      <td>0</td>\n",
              "      <td>4</td>\n",
              "      <td>1</td>\n",
              "    </tr>\n",
              "    <tr>\n",
              "      <th>1</th>\n",
              "      <td>55.0</td>\n",
              "      <td>0</td>\n",
              "      <td>7861</td>\n",
              "      <td>0</td>\n",
              "      <td>38</td>\n",
              "      <td>0</td>\n",
              "      <td>263358.03</td>\n",
              "      <td>1.1</td>\n",
              "      <td>136</td>\n",
              "      <td>1</td>\n",
              "      <td>0</td>\n",
              "      <td>6</td>\n",
              "      <td>1</td>\n",
              "    </tr>\n",
              "    <tr>\n",
              "      <th>2</th>\n",
              "      <td>65.0</td>\n",
              "      <td>0</td>\n",
              "      <td>146</td>\n",
              "      <td>0</td>\n",
              "      <td>20</td>\n",
              "      <td>0</td>\n",
              "      <td>162000.00</td>\n",
              "      <td>1.3</td>\n",
              "      <td>129</td>\n",
              "      <td>1</td>\n",
              "      <td>1</td>\n",
              "      <td>7</td>\n",
              "      <td>1</td>\n",
              "    </tr>\n",
              "    <tr>\n",
              "      <th>3</th>\n",
              "      <td>50.0</td>\n",
              "      <td>1</td>\n",
              "      <td>111</td>\n",
              "      <td>0</td>\n",
              "      <td>20</td>\n",
              "      <td>0</td>\n",
              "      <td>210000.00</td>\n",
              "      <td>1.9</td>\n",
              "      <td>137</td>\n",
              "      <td>1</td>\n",
              "      <td>0</td>\n",
              "      <td>7</td>\n",
              "      <td>1</td>\n",
              "    </tr>\n",
              "    <tr>\n",
              "      <th>4</th>\n",
              "      <td>65.0</td>\n",
              "      <td>1</td>\n",
              "      <td>160</td>\n",
              "      <td>1</td>\n",
              "      <td>20</td>\n",
              "      <td>0</td>\n",
              "      <td>327000.00</td>\n",
              "      <td>2.7</td>\n",
              "      <td>116</td>\n",
              "      <td>0</td>\n",
              "      <td>0</td>\n",
              "      <td>8</td>\n",
              "      <td>1</td>\n",
              "    </tr>\n",
              "    <tr>\n",
              "      <th>...</th>\n",
              "      <td>...</td>\n",
              "      <td>...</td>\n",
              "      <td>...</td>\n",
              "      <td>...</td>\n",
              "      <td>...</td>\n",
              "      <td>...</td>\n",
              "      <td>...</td>\n",
              "      <td>...</td>\n",
              "      <td>...</td>\n",
              "      <td>...</td>\n",
              "      <td>...</td>\n",
              "      <td>...</td>\n",
              "      <td>...</td>\n",
              "    </tr>\n",
              "    <tr>\n",
              "      <th>294</th>\n",
              "      <td>62.0</td>\n",
              "      <td>0</td>\n",
              "      <td>61</td>\n",
              "      <td>1</td>\n",
              "      <td>38</td>\n",
              "      <td>1</td>\n",
              "      <td>155000.00</td>\n",
              "      <td>1.1</td>\n",
              "      <td>143</td>\n",
              "      <td>1</td>\n",
              "      <td>1</td>\n",
              "      <td>270</td>\n",
              "      <td>0</td>\n",
              "    </tr>\n",
              "    <tr>\n",
              "      <th>295</th>\n",
              "      <td>55.0</td>\n",
              "      <td>0</td>\n",
              "      <td>1820</td>\n",
              "      <td>0</td>\n",
              "      <td>38</td>\n",
              "      <td>0</td>\n",
              "      <td>270000.00</td>\n",
              "      <td>1.2</td>\n",
              "      <td>139</td>\n",
              "      <td>0</td>\n",
              "      <td>0</td>\n",
              "      <td>271</td>\n",
              "      <td>0</td>\n",
              "    </tr>\n",
              "    <tr>\n",
              "      <th>296</th>\n",
              "      <td>45.0</td>\n",
              "      <td>0</td>\n",
              "      <td>2060</td>\n",
              "      <td>1</td>\n",
              "      <td>60</td>\n",
              "      <td>0</td>\n",
              "      <td>742000.00</td>\n",
              "      <td>0.8</td>\n",
              "      <td>138</td>\n",
              "      <td>0</td>\n",
              "      <td>0</td>\n",
              "      <td>278</td>\n",
              "      <td>0</td>\n",
              "    </tr>\n",
              "    <tr>\n",
              "      <th>297</th>\n",
              "      <td>45.0</td>\n",
              "      <td>0</td>\n",
              "      <td>2413</td>\n",
              "      <td>0</td>\n",
              "      <td>38</td>\n",
              "      <td>0</td>\n",
              "      <td>140000.00</td>\n",
              "      <td>1.4</td>\n",
              "      <td>140</td>\n",
              "      <td>1</td>\n",
              "      <td>1</td>\n",
              "      <td>280</td>\n",
              "      <td>0</td>\n",
              "    </tr>\n",
              "    <tr>\n",
              "      <th>298</th>\n",
              "      <td>50.0</td>\n",
              "      <td>0</td>\n",
              "      <td>196</td>\n",
              "      <td>0</td>\n",
              "      <td>45</td>\n",
              "      <td>0</td>\n",
              "      <td>395000.00</td>\n",
              "      <td>1.6</td>\n",
              "      <td>136</td>\n",
              "      <td>1</td>\n",
              "      <td>1</td>\n",
              "      <td>285</td>\n",
              "      <td>0</td>\n",
              "    </tr>\n",
              "  </tbody>\n",
              "</table>\n",
              "<p>299 rows × 13 columns</p>\n",
              "</div>"
            ],
            "text/plain": [
              "      age  anaemia  creatinine_phosphokinase  ...  smoking  time  DEATH_EVENT\n",
              "0    75.0        0                       582  ...        0     4            1\n",
              "1    55.0        0                      7861  ...        0     6            1\n",
              "2    65.0        0                       146  ...        1     7            1\n",
              "3    50.0        1                       111  ...        0     7            1\n",
              "4    65.0        1                       160  ...        0     8            1\n",
              "..    ...      ...                       ...  ...      ...   ...          ...\n",
              "294  62.0        0                        61  ...        1   270            0\n",
              "295  55.0        0                      1820  ...        0   271            0\n",
              "296  45.0        0                      2060  ...        0   278            0\n",
              "297  45.0        0                      2413  ...        1   280            0\n",
              "298  50.0        0                       196  ...        1   285            0\n",
              "\n",
              "[299 rows x 13 columns]"
            ]
          },
          "metadata": {},
          "execution_count": 2
        }
      ]
    },
    {
      "cell_type": "markdown",
      "metadata": {
        "id": "duKlLbZFvwLG"
      },
      "source": [
        "Andere Quellen von Datensätzen sind zum Beispiel:\n",
        "* [Data.gov](https://data.gov) ist die Open Data Sammlung der US-Regierung. Hier kann man nach Themen filtern, unter anderem nach [Older Adults Health](https://catalog.data.gov/group/older-adults-health-data)\n",
        "* Die [WHO](https://apps.who.int/gho/data/node.resources) stellt viele Statistiken zu den Gesundheitssystemen und der medizinischen Versorgung ihrer Mitgliedsstaaten zur Verfügung, zum Beispiel zu [COVID-19](https://covid19.who.int/table)\n",
        "* [OASIS](https://www.oasis-brains.org/) ist eine Quelle speziell für Neuroimaging, also radiologisch erzeugte Bilder des Gehirns. Diese Bilder sind zwar frei verfügbar, allerdings muss man sich für die Nutzung registrieren.\n",
        "* Registry of Research Data Repositories, oder kurz [RE3](https://www.re3data.org/) bietet eine sehr schön thematisch gegliederte Übersicht über verschiedenste Datensätze. Viele der Datensätze brauchen aber auch hier eine offizielle Anfrage zur Nutzung.\n",
        "\n",
        "Der zur Verfügung gestellte Datensatz *mystery_dataset_ex2.csv* über Herz-Kreislauf-Erkrankungen stammt auch dieses mal wieder von Kaggle. Zu finden ist er [hier](https://www.kaggle.com/andrewmvd/heart-failure-clinical-data?select=heart_failure_clinical_records_dataset.csv)."
      ]
    },
    {
      "cell_type": "markdown",
      "metadata": {
        "id": "rKMG_2np1TSb"
      },
      "source": [
        "## Datenanalyse\n",
        "\n",
        "Ein sehr wichtiger Schritt beim Machine Learning ist die genaue Analyse des Datensatzes. Das gilt insbesondere, wenn Sie ihn nicht selber erhoben haben.Schauen Sie sich zum Beispiel den Zusammenhang zwischen den Spalten *time* und *DEATH_EVENT* an. \n",
        "\n",
        "Tipp: \n",
        "Mit dem Befehl `pd.set_option('display.max_columns',None)` können Sie einstellen, dass die Tabelle die Spaltenanzahl nicht begrenzt. Nutzen Sie das, um sich die relevanten Spalten in Gänze anzuzeigen. Sie müssen die Tabelle dafür transponieren. Wenn Sie danach die ursprüngliche Tabellenformatierung wieder herstellen wollen, empfiehlt es sich, die aktuelle Spaltenanzahl vorher mit `pd.get_option('display.max_columns')` als Variable zu speichern."
      ]
    },
    {
      "cell_type": "code",
      "metadata": {
        "id": "nI2tMrnY3Vg7"
      },
      "source": [
        "# Beziehung zwischen time und DEATH_EVENT:\n",
        "displayed_nr_columns = pd.get_option('display.max_columns')\n",
        "pd.set_option('display.max_columns',None)\n",
        "imported_dataset[['time','DEATH_EVENT']].transpose()"
      ],
      "execution_count": null,
      "outputs": []
    },
    {
      "cell_type": "code",
      "metadata": {
        "id": "p_vFtFpE3WNT"
      },
      "source": [
        "pd.set_option('display.max_columns',displayed_nr_columns)"
      ],
      "execution_count": null,
      "outputs": []
    },
    {
      "cell_type": "markdown",
      "metadata": {
        "id": "iHthGn7T3bcH"
      },
      "source": [
        "Was stellen Sie fest? Überprüfen Sie Ihren Verdacht, indem Sie die Korrelation dieser beiden Spalten berechnen."
      ]
    },
    {
      "cell_type": "code",
      "metadata": {
        "id": "F1XXyfZc3iC7"
      },
      "source": [
        "cor_time_death = imported_dataset[['time','DEATH_EVENT']].corr()\n",
        "print(\"Korrelation zwischen den Spalten 'time' und 'DEATH_EVENT' beträgt:\\n\", cor_time_death)"
      ],
      "execution_count": null,
      "outputs": []
    },
    {
      "cell_type": "markdown",
      "metadata": {
        "id": "tyVZqQzc9-CC"
      },
      "source": [
        "Wenn Sie die Analyse des Datensatzes etwas strukturierter angehen wollen, stellt Pandas mehrere Befehle zur Verfügung, die Informationen über ein Dataframe liefern: `dataframe.shape`, `dataframe.dtypes`, `dataframe.describe()` und `dataframe.isnull()`. Führen Sie die Befehle aus und machen Sie sich damit vertraut, was sie ausgeben."
      ]
    },
    {
      "cell_type": "code",
      "metadata": {
        "id": "1HT3oGnO_HHR"
      },
      "source": [
        "imported_dataset.shape"
      ],
      "execution_count": null,
      "outputs": []
    },
    {
      "cell_type": "code",
      "metadata": {
        "id": "e_dC9X-U_T_J"
      },
      "source": [
        "imported_dataset.dtypes"
      ],
      "execution_count": null,
      "outputs": []
    },
    {
      "cell_type": "code",
      "metadata": {
        "id": "Bx6gdlBi_RkS"
      },
      "source": [
        "imported_dataset.describe()"
      ],
      "execution_count": null,
      "outputs": []
    },
    {
      "cell_type": "markdown",
      "metadata": {
        "id": "ASjrzXU9_-aa"
      },
      "source": [
        "Wenn Sie überprüfen wollen, ob Sie ungültige Werte (`NULL`) in Ihren Daten haben, gibt es außerdem noch diesen Befehl"
      ]
    },
    {
      "cell_type": "code",
      "metadata": {
        "id": "RS8T85F3XZA7"
      },
      "source": [
        "imported_dataset.isnull().sum()"
      ],
      "execution_count": null,
      "outputs": []
    },
    {
      "cell_type": "markdown",
      "metadata": {
        "id": "pwCOD6V8sMcT"
      },
      "source": [
        "Zurück zur Spalte *time*: Das beobachtete Phänomen bezeichnet man als **Data Leakage** und wird in einer späteren Vorlesung nochmal ausführlich behandelt. Für jetzt reicht es, wenn Sie den Datensatz bereinigen, indem Sie die Spalte einfach *time* löschen."
      ]
    },
    {
      "cell_type": "code",
      "metadata": {
        "id": "J6LUhg8IwmDn"
      },
      "source": [
        "# Löschen Sie die Spalte time\n",
        "imported_dataset.drop(columns='time')"
      ],
      "execution_count": null,
      "outputs": []
    },
    {
      "cell_type": "markdown",
      "metadata": {
        "id": "EWSIBRjY1BDa"
      },
      "source": [
        "## Einfache Wahrscheinlichkeiten\n",
        "\n",
        "Bestimmen Sie, wie viel Prozent der Patient:innen männlich und wie viel weiblich sind, sowie die Anzahl der Patient:innen, die während der Beobachtungsphase gestorben sind."
      ]
    },
    {
      "cell_type": "code",
      "metadata": {
        "id": "vPDF-jo61OvZ"
      },
      "source": [
        "print('Anteil männlicher Patienten: ', sum(imported_dataset['sex'])/len(imported_dataset))\n",
        "print('Anteil weiblicher Patientinnen: ', 1-sum(imported_dataset['sex'])/len(imported_dataset))\n",
        "print('Anzahl Patient:innen, die gestorben sind: ', sum(imported_dataset['DEATH_EVENT']))"
      ],
      "execution_count": null,
      "outputs": []
    },
    {
      "cell_type": "markdown",
      "metadata": {
        "id": "xC2JqJHD4wSD"
      },
      "source": [
        "Berechnen Sie jetzt, wie wahrscheinlich es ist, dass ein:e Patient:in gestorben ist. Berechnen Sie außerdem, wie wahrscheinlich es ist, dass ein Patient gestorben ist, wenn bekannt ist, dass er männlich war und wie wahrscheinlich es ist, dass eine Patientin gestorben ist, wenn bekannt ist, dass sie weiblich war."
      ]
    },
    {
      "cell_type": "code",
      "metadata": {
        "id": "WWqwV5AR5DeT"
      },
      "source": [
        "print('Wahrscheinlichkeit von Tod:  ', sum(imported_dataset['DEATH_EVENT'])/len(imported_dataset))\n",
        "only_male_patients = imported_dataset[imported_dataset['sex']==1]\n",
        "only_female_patients = imported_dataset[imported_dataset.sex.eq(0)]\n",
        "print('Wahrscheinlichkeit von Tod, wenn bekannt dass männlich: ', sum(only_male_patients['DEATH_EVENT'])/len(only_male_patients))\n",
        "print('Wahrscheinlichkeit von Tod, wenn bekannt dass weiblich: ', sum(only_female_patients['DEATH_EVENT'])/len(only_female_patients))"
      ],
      "execution_count": null,
      "outputs": []
    },
    {
      "cell_type": "markdown",
      "metadata": {
        "id": "D2n1AFzJ5Rrb"
      },
      "source": [
        "Berechnen Sie, wie wahrscheinlich es ist, dass ein:e Patient:in gestorben ist, wenn bekannt war, dass er/sie raucht. Berechnen Sie auch diese Wahrscheinlichkeit in Abhängigkeit der Geschlechter."
      ]
    },
    {
      "cell_type": "code",
      "metadata": {
        "id": "Qr_e2pqV5RBD"
      },
      "source": [
        "smokers = imported_dataset[imported_dataset['smoking']==1]\n",
        "male_smokers = only_male_patients[only_male_patients['smoking']==1]\n",
        "female_smokers = only_female_patients[only_female_patients['smoking']==1]\n",
        "print('Wahrscheinlichkeit von Tod, wenn bekannt, dass Raucher: ', sum(smokers['DEATH_EVENT'])/len(smokers))\n",
        "print('Wahrscheinlichkeit von Tod, wenn bekannt, dass männlich und Raucher: ', sum(male_smokers['DEATH_EVENT'])/len(male_smokers))\n",
        "print('Wahrscheinlichkeit von Tod, wenn bekannt, dass weiblich und Raucher: ', sum(female_smokers['DEATH_EVENT'])/len(female_smokers))"
      ],
      "execution_count": null,
      "outputs": []
    },
    {
      "cell_type": "markdown",
      "metadata": {
        "id": "36BofbWu5j-r"
      },
      "source": [
        "Überrascht Sie das Ergebnis? Können Sie erklären, wie es zustande kommt?"
      ]
    },
    {
      "cell_type": "code",
      "metadata": {
        "id": "zRYTNu39ajEi"
      },
      "source": [
        "len(female_smokers)"
      ],
      "execution_count": null,
      "outputs": []
    },
    {
      "cell_type": "markdown",
      "metadata": {
        "id": "NBH3jCzu3kaq"
      },
      "source": [
        "Angenommen, Sie wollen wissen, welche der Features gute Prädiktoren für den Tod des/der Patient:in sind. Welche Größen können Sie berechnen, um dafür ein Gefühl zu bekommen? Welche Features würden Sie für eine Prädiktion empfehlen? "
      ]
    },
    {
      "cell_type": "code",
      "metadata": {
        "id": "AQVmzawm4s2M"
      },
      "source": [
        "# probieren Sie sich ein bisschen aus!\n",
        "imported_dataset.corr()"
      ],
      "execution_count": null,
      "outputs": []
    },
    {
      "cell_type": "markdown",
      "metadata": {
        "id": "evsZGoabKjIX"
      },
      "source": [
        "**Paper zum Datensatz:**\n",
        "\n",
        "[Machine learning can predict survival of patients with heart failure from serum creatinine and ejection fraction alone.](https://bmcmedinformdecismak.biomedcentral.com/articles/10.1186/s12911-020-1023-5)\n",
        "\n",
        "-> stimmt mit unseren Überlegungen überein!"
      ]
    }
  ]
}
