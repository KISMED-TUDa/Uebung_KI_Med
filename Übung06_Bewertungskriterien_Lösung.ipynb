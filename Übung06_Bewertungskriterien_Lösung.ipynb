{
  "nbformat": 4,
  "nbformat_minor": 0,
  "metadata": {
    "colab": {
      "name": "Übung06_Bewertungskriterien_Lösung.ipynb",
      "provenance": [],
      "collapsed_sections": [
        "mQlUOuAbcyu4",
        "e5qP03NRc-Ev"
      ]
    },
    "kernelspec": {
      "name": "python3",
      "display_name": "Python 3"
    },
    "language_info": {
      "name": "python"
    }
  },
  "cells": [
    {
      "cell_type": "markdown",
      "metadata": {
        "id": "mQlUOuAbcyu4"
      },
      "source": [
        "# 1. Metriken"
      ]
    },
    {
      "cell_type": "markdown",
      "metadata": {
        "id": "9xGWKASOc9iw"
      },
      "source": [
        "**a)** Führe die folgende Zelle aus, um eine Confusion Matrix zu erhatlten. Bestimme daraus die Prävalenz, den Bias, die Sensitivität und Spezifität, sowie Precision und Recall."
      ]
    },
    {
      "cell_type": "code",
      "metadata": {
        "colab": {
          "base_uri": "https://localhost:8080/"
        },
        "id": "Is3Z1T1xPaSI",
        "cellView": "form",
        "outputId": "43be1406-3456-4e3e-9e14-e3ba337f7e34"
      },
      "source": [
        "#@title Der Code ist hier nicht weiter interessant, ihr braucht die Zelle einfach nur auszuführen.\n",
        "import numpy as np\n",
        "import random as rd\n",
        "import pandas as pd\n",
        "from sklearn.metrics import confusion_matrix\n",
        "\n",
        "rd.seed(0)\n",
        "\n",
        "fraction_negatives = 0.42\n",
        "gesamtmenge = 200\n",
        "\n",
        "y_true=np.concatenate((np.ones((1,int(gesamtmenge*(1-fraction_negatives)))),np.zeros((1,int(gesamtmenge*fraction_negatives)))),1).T\n",
        "positive_pred_distribution = np.array([min(1,rd.gauss(0.75,0.25)) for i in range(0,int(gesamtmenge*(1-fraction_negatives)))])\n",
        "negative_pred_distribution = np.array([max(0,rd.gauss(0.33,0.2)) for i in range(0,int(gesamtmenge*fraction_negatives))])\n",
        "predictions = np.concatenate((positive_pred_distribution,negative_pred_distribution),0)\n",
        "y_hat = predictions >= 0.66\n",
        "conf_mat = pd.DataFrame(confusion_matrix(y_true,y_hat), index=[\"negativ\",\"positiv\"],columns=[\"'negativ' klassifiziert\", \"'positiv' klassifiziert\"])\n",
        "conf_mat"
      ],
      "execution_count": null,
      "outputs": [
        {
          "output_type": "execute_result",
          "data": {
            "text/html": [
              "<div>\n",
              "<style scoped>\n",
              "    .dataframe tbody tr th:only-of-type {\n",
              "        vertical-align: middle;\n",
              "    }\n",
              "\n",
              "    .dataframe tbody tr th {\n",
              "        vertical-align: top;\n",
              "    }\n",
              "\n",
              "    .dataframe thead th {\n",
              "        text-align: right;\n",
              "    }\n",
              "</style>\n",
              "<table border=\"1\" class=\"dataframe\">\n",
              "  <thead>\n",
              "    <tr style=\"text-align: right;\">\n",
              "      <th></th>\n",
              "      <th>'negativ' klassifiziert</th>\n",
              "      <th>'positiv' klassifiziert</th>\n",
              "    </tr>\n",
              "  </thead>\n",
              "  <tbody>\n",
              "    <tr>\n",
              "      <th>negativ</th>\n",
              "      <td>79</td>\n",
              "      <td>5</td>\n",
              "    </tr>\n",
              "    <tr>\n",
              "      <th>positiv</th>\n",
              "      <td>50</td>\n",
              "      <td>66</td>\n",
              "    </tr>\n",
              "  </tbody>\n",
              "</table>\n",
              "</div>"
            ],
            "text/plain": [
              "         'negativ' klassifiziert  'positiv' klassifiziert\n",
              "negativ                       79                        5\n",
              "positiv                       50                       66"
            ]
          },
          "metadata": {},
          "execution_count": 141
        }
      ]
    },
    {
      "cell_type": "markdown",
      "metadata": {
        "id": "8CCw_uIxVRHy"
      },
      "source": [
        "Prävalenz: $p = \\frac{50+66}{50+66+79+5} = \\frac{116}{200} = 0.58$\n",
        "\n",
        "Bias: $b = \\frac{5+61}{50+66+79+5} = \\frac{71}{200} = 0.355$\n",
        "\n",
        "Sensitivität: $sens = \\frac{66}{116} = 0.569$\n",
        "\n",
        "Spezifität: $spez = \\frac{79}{84} = 0.940$\n",
        "\n",
        "Precision: $prec = \\frac{66}{71} = 0.930$\n",
        "\n",
        "Recall: $rec = sens = 0.569$"
      ]
    },
    {
      "cell_type": "markdown",
      "metadata": {
        "id": "AZU3OHGJksN3"
      },
      "source": [
        "**b)** Angenommen, ein Klassifikator hat eine Sensitivität von $0.86$, eine Spezifität von $0.85$ und einen F1-Score von $0.12$. Wie groß ist die Prävalenz $p$?\n"
      ]
    },
    {
      "cell_type": "markdown",
      "metadata": {
        "id": "igenfq0vlG-H"
      },
      "source": [
        "Aus F1 und Sensitivität lässt sich ein Wert für die Precision berechnen:\n",
        "\n",
        "$F1=\\frac{prec*sens}{prec+sens} = \\frac{prec\\cdot 0.86}{prec+0.86} \\overset{!}{=} 0.12$\n",
        "\n",
        "$\\Rightarrow 0.12\\left(prec+0.86\\right) = 0.86\\cdot prec$\n",
        "\n",
        "$\\Rightarrow prec \\approx 0.14 $\n",
        "\n",
        "Mit der Grundmenge $G$ lässt sich dann die Precision nach der Prävalenz $p$ umstellen:\n",
        "\n",
        "$prec=\\frac{TP}{PP}=\\frac{TP}{TP+FP}=\\frac{sens\\cdot P}{sens\\cdot P+(1-spez)N} = \\frac{sens\\cdot p\\cdot G}{sens\\cdot p\\cdot G+(1-spez)(1-p)G} = \\frac{sens\\cdot p}{sens\\cdot p+(1-spez)(1-p)}= \\frac{0.86p}{0.86p+(1-0.85)(1-p)} = \\frac{0.86p}{0.71p+0.15} \\overset{!}{=} 0.14$\n",
        "\n",
        "$\\Rightarrow 0.14\\left(0.71p+0.15\\right) = 0.86p$\n",
        "\n",
        "$\\Rightarrow p = \\frac{0.14\\cdot 0.15}{0.86-0.14\\cdot 0.71} = 0.0276 = 2.76$%"
      ]
    },
    {
      "cell_type": "markdown",
      "metadata": {
        "id": "rE5Wqc2Qedfl"
      },
      "source": [
        "Führe die nächste Zelle aus. Der Code ist absichtlich ausgeblendet, da ihr ihn für diese Übung nicht zu verstehen braucht. Die Zelle erstellt einen Plot, den man interaktiv über einen Schieberegler verändern kann. Der Plot visualisiert das letzte Layer eines Neuronalen Netzes, das eine Klassifikation vornimmt. Das Layer besteht aus einer Sigmoid-Funktion, die die Inputs (repräsentiert durch die senkrechten Striche) in Wahrscheinlichkeiten, also Werte zwischen 0 und 1 umrechnet. Die Farbe der Striche codiert, ob es sich um einen positiven (gelb) oder einen negativen (blau) Wert handelt. Der grüne, wagrechte Strich repräsentiert die Grenze $\\alpha$, ab der Werte als positiv klassifiziert werden. Über den Schieberegler kann man $\\alpha$ zwischen 0.01 und 0.99 verschieben. \n",
        "\n",
        "**c)** Nutze diese Möglichkeit, $\\alpha$ verändern zu können, um das optimale $\\alpha$ zu schätzen. Skizziere dann per Hand eine PRC- und eine ROC-Kurve. Überlege Dir dafür auch, was in den Grenzfällen $\\alpha=0$ und $\\alpha=1$ passiert. Gib dann eine zweite Schätzung für den optimalen Wert von $\\alpha$, basierend auf deiner Skizze, an."
      ]
    },
    {
      "cell_type": "code",
      "metadata": {
        "id": "1yUR-Co8e2kG",
        "cellView": "form"
      },
      "source": [
        "#@markdown Ihr müsst diese Zelle nur ausführen, der Code ist nicht weiter interessant\n",
        "import math\n",
        "import random\n",
        "import os\n",
        "\n",
        "import matplotlib.pyplot as plt\n",
        "\n",
        "import seaborn as sns\n",
        "import ipywidgets as widgets\n",
        "from ipywidgets import interact, interactive, fixed, interact_manual, Layout\n",
        "\n",
        "random.seed(0)\n",
        "pal = sns.color_palette(\"colorblind\")\n",
        "\n",
        "def sigmoid(x):\n",
        "  return 1/(1+np.exp(-x))\n",
        "\n",
        "def inv_sigmoid(x):\n",
        "  return np.log(x/(1-x))\n",
        "\n",
        "x = np.linspace(-10, 10, num=1601)\n",
        "f1 = sigmoid(x)\n",
        "\n",
        "def update(alpha):\n",
        "  plt.figure(figsize=(24,12))\n",
        "  plt.plot(x,f1,lw=2)\n",
        "  plt.hlines(alpha, -10, np.log(alpha/(1-alpha)),colors=pal[2],lw=3)\n",
        "  tp = 10**(-6)\n",
        "  fp = 10**(-6)\n",
        "  fn = 10**(-6)\n",
        "  tn = 10**(-6)\n",
        "  for p,y in zip(predictions,y_true):\n",
        "    if y==0:    \n",
        "      if p < alpha:\n",
        "        plt.vlines(inv_sigmoid(p),0,p,colors=pal[0],alpha=0.2)\n",
        "        tn += 1\n",
        "      else:\n",
        "        plt.vlines(inv_sigmoid(p),0,p,colors=pal[0])\n",
        "        fp += 1\n",
        "    else: \n",
        "      if p >= alpha:\n",
        "        plt.vlines(inv_sigmoid(p),0,p,colors=pal[1])\n",
        "        tp += 1\n",
        "      else:\n",
        "        plt.vlines(inv_sigmoid(p),0,p,colors=pal[1],alpha=0.2)\n",
        "        fn += 1\n",
        "  tex = 'TPR: ' + str(int(1000*(tp+10**(-6))/(tp+fn+10**(-6)))/1000) + '\\nFPR: ' + str(int(1000*(fp+10**(-6))/(fp+tn+10**(-6)))/1000) + '\\nPrecision: ' + str(int(1000*(tp+10**(-6))/(tp+fp+10**(-6)))/1000) + '\\nRecall: ' + str(int(1000*(tp+10**(-6))/(tp+fn+10**(-6)))/1000)\n",
        "  if alpha > 0.8:\n",
        "    tex_y = 0.6\n",
        "  else:\n",
        "    tex_y = 0.8\n",
        "  plt.text(-8,tex_y,tex,fontsize=20)\n",
        "\n",
        "interact(update, alpha = widgets.FloatSlider(value=0.5,min=0.005, max=0.995, step = 0.01,layout=Layout(width='1000px')))\n",
        "plt.show()"
      ],
      "execution_count": null,
      "outputs": []
    },
    {
      "cell_type": "code",
      "metadata": {
        "id": "vilJ-5eXBm87",
        "colab": {
          "base_uri": "https://localhost:8080/",
          "height": 636
        },
        "outputId": "90373b0f-5774-415d-a6e7-2037dc69ff5e"
      },
      "source": [
        "from sklearn.metrics import roc_curve, auc\n",
        "import matplotlib.pyplot as plt\n",
        "\n",
        "fpr, tpr, alphas = roc_curve(y_true, predictions) # overall 624 samples\n",
        "opt_roc_point = np.argmax(tpr-fpr)\n",
        "auroc = auc(fpr, tpr)\n",
        "\n",
        "alpha_string = \"{:.2f}\".format(alphas[opt_roc_point])\n",
        "\n",
        "plt.figure(figsize=(15,10))\n",
        "lw = 4\n",
        "plt.plot(fpr, tpr, color='darkorange',\n",
        "         lw=lw, label='ROC curve (area = %0.2f)' % auroc)\n",
        "plt.plot([0, 1], [0, 1], color='navy', lw=lw, linestyle='--', label='random classifier')\n",
        "plt.plot(0,1,'g.',ms=20)\n",
        "plt.plot(fpr[opt_roc_point],tpr[opt_roc_point],'rX',ms=20)\n",
        "plt.text(fpr[opt_roc_point]-0.05,tpr[opt_roc_point]+0.05,r'$\\alpha$ = '+ alpha_string,color='red',size=30)\n",
        "plt.xlim([-0.02, 1.0])\n",
        "plt.ylim([0.0, 1.05])\n",
        "plt.xlabel('False Positive Rate',fontsize=20)\n",
        "plt.ylabel('True Positive Rate',fontsize=20)\n",
        "plt.title('Receiver Operating Characteristic',fontsize=20)\n",
        "plt.legend(loc=\"lower right\",fontsize=20)\n",
        "plt.show()"
      ],
      "execution_count": null,
      "outputs": [
        {
          "output_type": "display_data",
          "data": {
            "image/png": "[encoded data removed]",
            "text/plain": [
              "<Figure size 1080x720 with 1 Axes>"
            ]
          },
          "metadata": {
            "needs_background": "light"
          }
        }
      ]
    },
    {
      "cell_type": "code",
      "metadata": {
        "id": "ADUF34O7COKa",
        "colab": {
          "base_uri": "https://localhost:8080/",
          "height": 636
        },
        "outputId": "f840fd41-6304-4366-9a47-026cb905ed5a"
      },
      "source": [
        "from sklearn.metrics import precision_recall_curve, auc\n",
        "\n",
        "prec, rec, betas = precision_recall_curve(y_true, predictions)\n",
        "opt_prc_point = np.argmax(prec+rec)\n",
        "auprc = auc(rec,prec)\n",
        "\n",
        "beta_string = \"{:.2f}\".format(betas[opt_prc_point])\n",
        "\n",
        "plt.figure(figsize=(15,10))\n",
        "plt.plot([0, 1], [prec[0], prec[0]], color='navy', linestyle='--', label='random classifier',lw=lw)\n",
        "plt.plot(rec, prec, color='darkorange', lw=lw, label='PRC curve (area=%0.2f)' % auprc)\n",
        "plt.plot(1,prec[0],'r.',ms=20)\n",
        "plt.text(0.95,0.55,r'$\\frac{P}{P+N}$',color='red',size=30)\n",
        "plt.plot(1,1,'g.',ms=20)\n",
        "plt.ylim([0.0, 1.05])\n",
        "plt.plot(rec[opt_prc_point],prec[opt_prc_point],'rX',ms=20)\n",
        "plt.text(rec[opt_prc_point]-0.075,prec[opt_prc_point]+0.05,r'$\\alpha$ = '+ beta_string,color='red',size=30)\n",
        "plt.xlabel('Recall',fontsize=20)\n",
        "plt.ylabel('Precision',fontsize=20)\n",
        "plt.title('Precision Recall Characteristic',fontsize=20)\n",
        "plt.legend(loc='lower right',fontsize=20)\n",
        "plt.show()"
      ],
      "execution_count": null,
      "outputs": [
        {
          "output_type": "display_data",
          "data": {
            "image/png": "[encoded data removed]",
            "text/plain": [
              "<Figure size 1080x720 with 1 Axes>"
            ]
          },
          "metadata": {
            "needs_background": "light"
          }
        }
      ]
    },
    {
      "cell_type": "markdown",
      "metadata": {
        "id": "e5qP03NRc-Ev"
      },
      "source": [
        "# 2. Validierungsverfahren"
      ]
    },
    {
      "cell_type": "markdown",
      "metadata": {
        "id": "WrtfvJPWRfgS"
      },
      "source": [
        "**a)** Führe die folgende Zelle aus, um die beiden Datensätze *data_for_training.csv* und *data_for_testing.csv* zu importieren. Bei den Daten handelt es sich um einen zufälligen Split eines Datensatzes für [Weinqualität](https://www.kaggle.com/vishalkumbhar1997/wine-quality-prediction-with-logistic-regression). Die Aufgabe besteht darin, einen Klassifikator zu erstellen, der aus den Features die Qualität (`quality`) richtig erkennt. Die Qualität ist dabei für diese Aufgabe binär in gut (1) und schlecht (0) codiert. Führe dann die nächste Zelle aus. Diese erstellt mit der Bibliothek `sklearn` einen Entscheidungsbaum (Der ist das Thema der nächsten Vorlesung, die genaue Funktionsweise ist für diese Übung nicht wichtig), trainiert ihn auf dem Datensatz *data_for_training.csv* und testet ihn dann auf dem Datensatz *data_for_testing.csv*. Wie ihr seht, ist der Score (hier wird standardmäßig die Accuracy berechnet) auf dem zweiten Datensatz deutlich niedriger. Hier liegt also Overfitting vor."
      ]
    },
    {
      "cell_type": "code",
      "metadata": {
        "id": "nCPlynEpdGwY",
        "colab": {
          "base_uri": "https://localhost:8080/",
          "height": 441
        },
        "outputId": "9c8ae668-1a8b-4604-8d8d-7eb332adb4da"
      },
      "source": [
        "import pandas as pd\n",
        "import numpy as np\n",
        "import random as rd\n",
        "from google.colab import drive\n",
        "drive.mount('/content/gdrive')\n",
        "\n",
        "train_wines = pd.read_csv('/content/gdrive/MyDrive/data_for_training.csv')\n",
        "test_wines = pd.read_csv('/content/gdrive/MyDrive/data_for_testing.csv')\n",
        "\n",
        "train_wines"
      ],
      "execution_count": null,
      "outputs": [
        {
          "output_type": "stream",
          "name": "stdout",
          "text": [
            "Mounted at /content/gdrive\n"
          ]
        },
        {
          "output_type": "execute_result",
          "data": {
            "text/html": [
              "<div>\n",
              "<style scoped>\n",
              "    .dataframe tbody tr th:only-of-type {\n",
              "        vertical-align: middle;\n",
              "    }\n",
              "\n",
              "    .dataframe tbody tr th {\n",
              "        vertical-align: top;\n",
              "    }\n",
              "\n",
              "    .dataframe thead th {\n",
              "        text-align: right;\n",
              "    }\n",
              "</style>\n",
              "<table border=\"1\" class=\"dataframe\">\n",
              "  <thead>\n",
              "    <tr style=\"text-align: right;\">\n",
              "      <th></th>\n",
              "      <th>Unnamed: 0</th>\n",
              "      <th>type</th>\n",
              "      <th>fixed acidity</th>\n",
              "      <th>volatile acidity</th>\n",
              "      <th>citric acid</th>\n",
              "      <th>residual sugar</th>\n",
              "      <th>chlorides</th>\n",
              "      <th>free sulfur dioxide</th>\n",
              "      <th>total sulfur dioxide</th>\n",
              "      <th>density</th>\n",
              "      <th>pH</th>\n",
              "      <th>sulphates</th>\n",
              "      <th>alcohol</th>\n",
              "      <th>quality</th>\n",
              "    </tr>\n",
              "  </thead>\n",
              "  <tbody>\n",
              "    <tr>\n",
              "      <th>0</th>\n",
              "      <td>3859</td>\n",
              "      <td>1</td>\n",
              "      <td>7.3</td>\n",
              "      <td>0.25</td>\n",
              "      <td>0.26</td>\n",
              "      <td>7.2</td>\n",
              "      <td>0.048</td>\n",
              "      <td>52.0</td>\n",
              "      <td>207.0</td>\n",
              "      <td>0.99587</td>\n",
              "      <td>3.12</td>\n",
              "      <td>0.37</td>\n",
              "      <td>9.2</td>\n",
              "      <td>0</td>\n",
              "    </tr>\n",
              "    <tr>\n",
              "      <th>1</th>\n",
              "      <td>4675</td>\n",
              "      <td>1</td>\n",
              "      <td>5.7</td>\n",
              "      <td>0.21</td>\n",
              "      <td>0.37</td>\n",
              "      <td>4.5</td>\n",
              "      <td>0.040</td>\n",
              "      <td>58.0</td>\n",
              "      <td>140.0</td>\n",
              "      <td>0.99332</td>\n",
              "      <td>3.29</td>\n",
              "      <td>0.62</td>\n",
              "      <td>10.6</td>\n",
              "      <td>1</td>\n",
              "    </tr>\n",
              "    <tr>\n",
              "      <th>2</th>\n",
              "      <td>513</td>\n",
              "      <td>1</td>\n",
              "      <td>7.4</td>\n",
              "      <td>0.36</td>\n",
              "      <td>0.33</td>\n",
              "      <td>1.4</td>\n",
              "      <td>0.025</td>\n",
              "      <td>27.0</td>\n",
              "      <td>55.0</td>\n",
              "      <td>0.99150</td>\n",
              "      <td>3.21</td>\n",
              "      <td>0.33</td>\n",
              "      <td>11.2</td>\n",
              "      <td>1</td>\n",
              "    </tr>\n",
              "    <tr>\n",
              "      <th>3</th>\n",
              "      <td>5490</td>\n",
              "      <td>0</td>\n",
              "      <td>9.0</td>\n",
              "      <td>0.45</td>\n",
              "      <td>0.49</td>\n",
              "      <td>2.6</td>\n",
              "      <td>0.084</td>\n",
              "      <td>21.0</td>\n",
              "      <td>75.0</td>\n",
              "      <td>0.99870</td>\n",
              "      <td>3.35</td>\n",
              "      <td>0.57</td>\n",
              "      <td>9.7</td>\n",
              "      <td>0</td>\n",
              "    </tr>\n",
              "    <tr>\n",
              "      <th>4</th>\n",
              "      <td>4329</td>\n",
              "      <td>1</td>\n",
              "      <td>6.4</td>\n",
              "      <td>0.23</td>\n",
              "      <td>0.26</td>\n",
              "      <td>8.1</td>\n",
              "      <td>0.054</td>\n",
              "      <td>47.0</td>\n",
              "      <td>181.0</td>\n",
              "      <td>0.99540</td>\n",
              "      <td>3.12</td>\n",
              "      <td>0.49</td>\n",
              "      <td>9.4</td>\n",
              "      <td>0</td>\n",
              "    </tr>\n",
              "    <tr>\n",
              "      <th>...</th>\n",
              "      <td>...</td>\n",
              "      <td>...</td>\n",
              "      <td>...</td>\n",
              "      <td>...</td>\n",
              "      <td>...</td>\n",
              "      <td>...</td>\n",
              "      <td>...</td>\n",
              "      <td>...</td>\n",
              "      <td>...</td>\n",
              "      <td>...</td>\n",
              "      <td>...</td>\n",
              "      <td>...</td>\n",
              "      <td>...</td>\n",
              "      <td>...</td>\n",
              "    </tr>\n",
              "    <tr>\n",
              "      <th>641</th>\n",
              "      <td>5319</td>\n",
              "      <td>0</td>\n",
              "      <td>6.6</td>\n",
              "      <td>0.84</td>\n",
              "      <td>0.03</td>\n",
              "      <td>2.3</td>\n",
              "      <td>0.059</td>\n",
              "      <td>32.0</td>\n",
              "      <td>48.0</td>\n",
              "      <td>0.99520</td>\n",
              "      <td>3.52</td>\n",
              "      <td>0.56</td>\n",
              "      <td>12.3</td>\n",
              "      <td>1</td>\n",
              "    </tr>\n",
              "    <tr>\n",
              "      <th>642</th>\n",
              "      <td>3766</td>\n",
              "      <td>1</td>\n",
              "      <td>6.9</td>\n",
              "      <td>0.40</td>\n",
              "      <td>0.17</td>\n",
              "      <td>12.9</td>\n",
              "      <td>0.033</td>\n",
              "      <td>59.0</td>\n",
              "      <td>186.0</td>\n",
              "      <td>0.99754</td>\n",
              "      <td>3.08</td>\n",
              "      <td>0.49</td>\n",
              "      <td>9.4</td>\n",
              "      <td>0</td>\n",
              "    </tr>\n",
              "    <tr>\n",
              "      <th>643</th>\n",
              "      <td>4250</td>\n",
              "      <td>1</td>\n",
              "      <td>6.7</td>\n",
              "      <td>0.11</td>\n",
              "      <td>0.26</td>\n",
              "      <td>14.8</td>\n",
              "      <td>0.053</td>\n",
              "      <td>44.0</td>\n",
              "      <td>95.0</td>\n",
              "      <td>0.99676</td>\n",
              "      <td>3.20</td>\n",
              "      <td>0.35</td>\n",
              "      <td>9.8</td>\n",
              "      <td>1</td>\n",
              "    </tr>\n",
              "    <tr>\n",
              "      <th>644</th>\n",
              "      <td>4191</td>\n",
              "      <td>1</td>\n",
              "      <td>7.8</td>\n",
              "      <td>0.27</td>\n",
              "      <td>0.35</td>\n",
              "      <td>1.2</td>\n",
              "      <td>0.050</td>\n",
              "      <td>36.0</td>\n",
              "      <td>140.0</td>\n",
              "      <td>0.99138</td>\n",
              "      <td>3.09</td>\n",
              "      <td>0.45</td>\n",
              "      <td>11.2</td>\n",
              "      <td>0</td>\n",
              "    </tr>\n",
              "    <tr>\n",
              "      <th>645</th>\n",
              "      <td>896</td>\n",
              "      <td>1</td>\n",
              "      <td>6.8</td>\n",
              "      <td>0.18</td>\n",
              "      <td>0.28</td>\n",
              "      <td>8.7</td>\n",
              "      <td>0.047</td>\n",
              "      <td>52.0</td>\n",
              "      <td>242.0</td>\n",
              "      <td>0.99520</td>\n",
              "      <td>3.22</td>\n",
              "      <td>0.53</td>\n",
              "      <td>10.5</td>\n",
              "      <td>1</td>\n",
              "    </tr>\n",
              "  </tbody>\n",
              "</table>\n",
              "<p>646 rows × 14 columns</p>\n",
              "</div>"
            ],
            "text/plain": [
              "     Unnamed: 0  type  fixed acidity  ...  sulphates  alcohol  quality\n",
              "0          3859     1            7.3  ...       0.37      9.2        0\n",
              "1          4675     1            5.7  ...       0.62     10.6        1\n",
              "2           513     1            7.4  ...       0.33     11.2        1\n",
              "3          5490     0            9.0  ...       0.57      9.7        0\n",
              "4          4329     1            6.4  ...       0.49      9.4        0\n",
              "..          ...   ...            ...  ...        ...      ...      ...\n",
              "641        5319     0            6.6  ...       0.56     12.3        1\n",
              "642        3766     1            6.9  ...       0.49      9.4        0\n",
              "643        4250     1            6.7  ...       0.35      9.8        1\n",
              "644        4191     1            7.8  ...       0.45     11.2        0\n",
              "645         896     1            6.8  ...       0.53     10.5        1\n",
              "\n",
              "[646 rows x 14 columns]"
            ]
          },
          "metadata": {},
          "execution_count": 2
        }
      ]
    },
    {
      "cell_type": "code",
      "metadata": {
        "colab": {
          "base_uri": "https://localhost:8080/"
        },
        "id": "JQWG8uDqjKmT",
        "outputId": "dbbb035a-6006-4649-d359-32bf93f78c98"
      },
      "source": [
        "y = train_wines['quality']\n",
        "X = train_wines.drop('quality',axis=1)\n",
        "\n",
        "y_test = test_wines['quality']\n",
        "X_test = test_wines.drop('quality',axis=1)\n",
        "\n",
        "from sklearn.tree import DecisionTreeClassifier\n",
        "\n",
        "tree = DecisionTreeClassifier().fit(X,y)\n",
        "\n",
        "# training und validation accuracy\n",
        "print(\"Tree with depth \" + str(tree.get_depth()) + \"; train score: \"+str(tree.score(X,y)) + \"; val score: \"+str(tree.score(X_test,y_test)))"
      ],
      "execution_count": null,
      "outputs": [
        {
          "output_type": "stream",
          "name": "stdout",
          "text": [
            "Tree with depth 13; train score: 1.0; val score: 0.7003610108303249\n"
          ]
        }
      ]
    },
    {
      "cell_type": "markdown",
      "metadata": {
        "id": "gIa3rofTe2CS"
      },
      "source": [
        "**b)** Teile den Datensatz *data_for_training.csv* in einen Trainings- und einen Validierungsdatensatz auf. Der Datensatz *data_for_testing.csv* wird fürs erste nicht weiter beachtet. Nutze die in der Vorlesung vorgestellten Mehtoden der Validierung und Kreuzvalidierung um Hyperparameterkonfigurationen zu finden, die weniger overfitten als die Standardkonfiguration. \n",
        "\n",
        "**Hinweis:** Der Entscheidungsbaum hat verschiedene Hyperparamter, unter anderem die maximale Baumtiefe (`max_depth`) und das Teilungskriterium (`criterion`). Man kann zum Beispiel auch spezifizieren, wie viele Parameter bei jeder Teilung berücksichtigt werden sollen (`max_features`). Die Erklärung aller Parameter kann [hier](https://scikit-learn.org/stable/modules/generated/sklearn.tree.DecisionTreeClassifier.html) nachgelesen werden. Ihr könnt euch bei dieser Aufgabe aber auch auf einen Parameter (z.B. `max_depth`) konzentrieren und für den einen optimalen Wert finden.\n",
        "\n",
        "**Hinweis2:** Die Bibliothek `sklearn` liefert viele Optionen zur Hyperparameteroptimierung und Validierung. Bei Interesse findet ihr euch [hier](https://scikit-learn.org/stable/modules/cross_validation.html) und [hier](https://scikit-learn.org/stable/modules/grid_search.html#grid-search) weitere Infos. Die Klasse `sklearn.model_selection.cross_val_score` bietet z.B. die Möglichkeit, unterschiedliche und sogar eigene Gütekriterien bei der Kreuzvalidierung zu berechen. Hier kann man einfach ein bisschen ausprobieren!\n",
        "\n",
        "**c)** Teste deinen fertigen Klassifikator auf dem bei b) nicht berücksichtigten Datensatz *data_for_testing.csv*. Wie gut ist dein Ergebnis?"
      ]
    },
    {
      "cell_type": "code",
      "metadata": {
        "id": "VLDWSy4ndnL6"
      },
      "source": [
        "training_set = train_wines.sample(frac=0.8,random_state=0)\n",
        "validation_set = train_wines.drop(training_set.index,axis=0)\n",
        "\n",
        "y_train = training_set['quality']\n",
        "X_train = training_set.drop('quality',axis=1)\n",
        "\n",
        "y_val = validation_set['quality']\n",
        "X_val = validation_set.drop('quality',axis=1)"
      ],
      "execution_count": null,
      "outputs": []
    },
    {
      "cell_type": "code",
      "metadata": {
        "colab": {
          "base_uri": "https://localhost:8080/"
        },
        "id": "FmK_Q7_FUp5p",
        "outputId": "c1b696be-b082-4e38-e29e-c49e2ce3d09f"
      },
      "source": [
        "# Hyperparameter Optimierung der max_depth mit einfacher Validierung\n",
        "trees = []\n",
        "val_scores = []\n",
        "min_tree_depth = 1\n",
        "max_tree_depth = 31\n",
        "for i in range(min_tree_depth,max_tree_depth):\n",
        "  trees.append(DecisionTreeClassifier(max_depth=i).fit(X_train,y_train))\n",
        "  val_scores.append(trees[i-min_tree_depth].score(X_val,y_val))\n",
        "best_index = np.argmax(val_scores)\n",
        "# da wir unseren Baum jetzt nicht mehr verändern, können wir ihn nochmal neu trainieren, dieses mal auf allen Trainingsdaten\n",
        "best_tree = trees[best_index].fit(X,y)\n",
        "print(str(best_tree) + \"; valid score: \"+str(val_scores[best_index])+ \"; test score: \"+str(best_tree.score(X_test,y_test)))"
      ],
      "execution_count": null,
      "outputs": [
        {
          "output_type": "stream",
          "name": "stdout",
          "text": [
            "DecisionTreeClassifier(max_depth=2); valid score: 0.7751937984496124; test score: 0.7354306343476018\n"
          ]
        }
      ]
    },
    {
      "cell_type": "code",
      "metadata": {
        "colab": {
          "base_uri": "https://localhost:8080/",
          "height": 370
        },
        "id": "yrsRr0patmVl",
        "outputId": "4184e2dd-c636-4c95-c955-35631766562d"
      },
      "source": [
        "from sklearn.tree import plot_tree\n",
        "\n",
        "plot_tree(best_tree)\n",
        "\n",
        "# Spalte 12: \"alcohol\", Spalte 3: \"volatile acidity\", Spalte 7: \"free sulfur dioxide\""
      ],
      "execution_count": null,
      "outputs": [
        {
          "output_type": "execute_result",
          "data": {
            "text/plain": [
              "[Text(167.4, 181.2, 'X[12] <= 10.25\\ngini = 0.454\\nsamples = 646\\nvalue = [225, 421]'),\n",
              " Text(83.7, 108.72, 'X[3] <= 0.265\\ngini = 0.499\\nsamples = 314\\nvalue = [165, 149]'),\n",
              " Text(41.85, 36.23999999999998, 'gini = 0.41\\nsamples = 118\\nvalue = [34, 84]'),\n",
              " Text(125.55000000000001, 36.23999999999998, 'gini = 0.443\\nsamples = 196\\nvalue = [131, 65]'),\n",
              " Text(251.10000000000002, 108.72, 'X[7] <= 16.5\\ngini = 0.296\\nsamples = 332\\nvalue = [60, 272]'),\n",
              " Text(209.25, 36.23999999999998, 'gini = 0.465\\nsamples = 79\\nvalue = [29, 50]'),\n",
              " Text(292.95, 36.23999999999998, 'gini = 0.215\\nsamples = 253\\nvalue = [31, 222]')]"
            ]
          },
          "metadata": {},
          "execution_count": 72
        },
        {
          "output_type": "display_data",
          "data": {
            "image/png": "[encoded data removed]",
            "text/plain": [
              "<Figure size 432x288 with 1 Axes>"
            ]
          },
          "metadata": {
            "needs_background": "light"
          }
        }
      ]
    },
    {
      "cell_type": "code",
      "metadata": {
        "colab": {
          "base_uri": "https://localhost:8080/",
          "height": 488
        },
        "id": "GFh307gYucAR",
        "outputId": "47f2d407-435d-4ccd-c6b2-fca71f6ef5a5"
      },
      "source": [
        "training_set.corr()"
      ],
      "execution_count": null,
      "outputs": [
        {
          "output_type": "execute_result",
          "data": {
            "text/html": [
              "<div>\n",
              "<style scoped>\n",
              "    .dataframe tbody tr th:only-of-type {\n",
              "        vertical-align: middle;\n",
              "    }\n",
              "\n",
              "    .dataframe tbody tr th {\n",
              "        vertical-align: top;\n",
              "    }\n",
              "\n",
              "    .dataframe thead th {\n",
              "        text-align: right;\n",
              "    }\n",
              "</style>\n",
              "<table border=\"1\" class=\"dataframe\">\n",
              "  <thead>\n",
              "    <tr style=\"text-align: right;\">\n",
              "      <th></th>\n",
              "      <th>Unnamed: 0</th>\n",
              "      <th>type</th>\n",
              "      <th>fixed acidity</th>\n",
              "      <th>volatile acidity</th>\n",
              "      <th>citric acid</th>\n",
              "      <th>residual sugar</th>\n",
              "      <th>chlorides</th>\n",
              "      <th>free sulfur dioxide</th>\n",
              "      <th>total sulfur dioxide</th>\n",
              "      <th>density</th>\n",
              "      <th>pH</th>\n",
              "      <th>sulphates</th>\n",
              "      <th>alcohol</th>\n",
              "      <th>quality</th>\n",
              "    </tr>\n",
              "  </thead>\n",
              "  <tbody>\n",
              "    <tr>\n",
              "      <th>Unnamed: 0</th>\n",
              "      <td>1.000000</td>\n",
              "      <td>-0.728289</td>\n",
              "      <td>0.237299</td>\n",
              "      <td>0.493932</td>\n",
              "      <td>-0.236121</td>\n",
              "      <td>-0.221699</td>\n",
              "      <td>0.439806</td>\n",
              "      <td>-0.330525</td>\n",
              "      <td>-0.555552</td>\n",
              "      <td>0.201053</td>\n",
              "      <td>0.190846</td>\n",
              "      <td>0.278905</td>\n",
              "      <td>0.124004</td>\n",
              "      <td>-0.089352</td>\n",
              "    </tr>\n",
              "    <tr>\n",
              "      <th>type</th>\n",
              "      <td>-0.728289</td>\n",
              "      <td>1.000000</td>\n",
              "      <td>-0.470657</td>\n",
              "      <td>-0.666382</td>\n",
              "      <td>0.208911</td>\n",
              "      <td>0.351560</td>\n",
              "      <td>-0.621337</td>\n",
              "      <td>0.486668</td>\n",
              "      <td>0.702174</td>\n",
              "      <td>-0.422078</td>\n",
              "      <td>-0.351211</td>\n",
              "      <td>-0.418650</td>\n",
              "      <td>0.012011</td>\n",
              "      <td>0.083908</td>\n",
              "    </tr>\n",
              "    <tr>\n",
              "      <th>fixed acidity</th>\n",
              "      <td>0.237299</td>\n",
              "      <td>-0.470657</td>\n",
              "      <td>1.000000</td>\n",
              "      <td>0.208782</td>\n",
              "      <td>0.270234</td>\n",
              "      <td>-0.101261</td>\n",
              "      <td>0.290793</td>\n",
              "      <td>-0.317007</td>\n",
              "      <td>-0.338779</td>\n",
              "      <td>0.484218</td>\n",
              "      <td>-0.244485</td>\n",
              "      <td>0.219120</td>\n",
              "      <td>-0.125235</td>\n",
              "      <td>-0.102915</td>\n",
              "    </tr>\n",
              "    <tr>\n",
              "      <th>volatile acidity</th>\n",
              "      <td>0.493932</td>\n",
              "      <td>-0.666382</td>\n",
              "      <td>0.208782</td>\n",
              "      <td>1.000000</td>\n",
              "      <td>-0.452910</td>\n",
              "      <td>-0.192600</td>\n",
              "      <td>0.446865</td>\n",
              "      <td>-0.361742</td>\n",
              "      <td>-0.424440</td>\n",
              "      <td>0.293282</td>\n",
              "      <td>0.296270</td>\n",
              "      <td>0.237261</td>\n",
              "      <td>-0.008114</td>\n",
              "      <td>-0.248996</td>\n",
              "    </tr>\n",
              "    <tr>\n",
              "      <th>citric acid</th>\n",
              "      <td>-0.236121</td>\n",
              "      <td>0.208911</td>\n",
              "      <td>0.270234</td>\n",
              "      <td>-0.452910</td>\n",
              "      <td>1.000000</td>\n",
              "      <td>0.120401</td>\n",
              "      <td>-0.096229</td>\n",
              "      <td>0.146185</td>\n",
              "      <td>0.210885</td>\n",
              "      <td>0.055540</td>\n",
              "      <td>-0.253113</td>\n",
              "      <td>0.001328</td>\n",
              "      <td>0.002615</td>\n",
              "      <td>0.100331</td>\n",
              "    </tr>\n",
              "    <tr>\n",
              "      <th>residual sugar</th>\n",
              "      <td>-0.221699</td>\n",
              "      <td>0.351560</td>\n",
              "      <td>-0.101261</td>\n",
              "      <td>-0.192600</td>\n",
              "      <td>0.120401</td>\n",
              "      <td>1.000000</td>\n",
              "      <td>-0.160054</td>\n",
              "      <td>0.402136</td>\n",
              "      <td>0.486903</td>\n",
              "      <td>0.512335</td>\n",
              "      <td>-0.311129</td>\n",
              "      <td>-0.189997</td>\n",
              "      <td>-0.357985</td>\n",
              "      <td>-0.063394</td>\n",
              "    </tr>\n",
              "    <tr>\n",
              "      <th>chlorides</th>\n",
              "      <td>0.439806</td>\n",
              "      <td>-0.621337</td>\n",
              "      <td>0.290793</td>\n",
              "      <td>0.446865</td>\n",
              "      <td>-0.096229</td>\n",
              "      <td>-0.160054</td>\n",
              "      <td>1.000000</td>\n",
              "      <td>-0.283456</td>\n",
              "      <td>-0.373869</td>\n",
              "      <td>0.416032</td>\n",
              "      <td>0.119559</td>\n",
              "      <td>0.397246</td>\n",
              "      <td>-0.243375</td>\n",
              "      <td>-0.122648</td>\n",
              "    </tr>\n",
              "    <tr>\n",
              "      <th>free sulfur dioxide</th>\n",
              "      <td>-0.330525</td>\n",
              "      <td>0.486668</td>\n",
              "      <td>-0.317007</td>\n",
              "      <td>-0.361742</td>\n",
              "      <td>0.146185</td>\n",
              "      <td>0.402136</td>\n",
              "      <td>-0.283456</td>\n",
              "      <td>1.000000</td>\n",
              "      <td>0.722273</td>\n",
              "      <td>-0.010114</td>\n",
              "      <td>-0.144286</td>\n",
              "      <td>-0.227095</td>\n",
              "      <td>-0.178184</td>\n",
              "      <td>-0.042953</td>\n",
              "    </tr>\n",
              "    <tr>\n",
              "      <th>total sulfur dioxide</th>\n",
              "      <td>-0.555552</td>\n",
              "      <td>0.702174</td>\n",
              "      <td>-0.338779</td>\n",
              "      <td>-0.424440</td>\n",
              "      <td>0.210885</td>\n",
              "      <td>0.486903</td>\n",
              "      <td>-0.373869</td>\n",
              "      <td>0.722273</td>\n",
              "      <td>1.000000</td>\n",
              "      <td>-0.009053</td>\n",
              "      <td>-0.229227</td>\n",
              "      <td>-0.253872</td>\n",
              "      <td>-0.250513</td>\n",
              "      <td>-0.076602</td>\n",
              "    </tr>\n",
              "    <tr>\n",
              "      <th>density</th>\n",
              "      <td>0.201053</td>\n",
              "      <td>-0.422078</td>\n",
              "      <td>0.484218</td>\n",
              "      <td>0.293282</td>\n",
              "      <td>0.055540</td>\n",
              "      <td>0.512335</td>\n",
              "      <td>0.416032</td>\n",
              "      <td>-0.010114</td>\n",
              "      <td>-0.009053</td>\n",
              "      <td>1.000000</td>\n",
              "      <td>0.015389</td>\n",
              "      <td>0.223213</td>\n",
              "      <td>-0.686570</td>\n",
              "      <td>-0.287267</td>\n",
              "    </tr>\n",
              "    <tr>\n",
              "      <th>pH</th>\n",
              "      <td>0.190846</td>\n",
              "      <td>-0.351211</td>\n",
              "      <td>-0.244485</td>\n",
              "      <td>0.296270</td>\n",
              "      <td>-0.253113</td>\n",
              "      <td>-0.311129</td>\n",
              "      <td>0.119559</td>\n",
              "      <td>-0.144286</td>\n",
              "      <td>-0.229227</td>\n",
              "      <td>0.015389</td>\n",
              "      <td>1.000000</td>\n",
              "      <td>0.186916</td>\n",
              "      <td>0.153489</td>\n",
              "      <td>0.067353</td>\n",
              "    </tr>\n",
              "    <tr>\n",
              "      <th>sulphates</th>\n",
              "      <td>0.278905</td>\n",
              "      <td>-0.418650</td>\n",
              "      <td>0.219120</td>\n",
              "      <td>0.237261</td>\n",
              "      <td>0.001328</td>\n",
              "      <td>-0.189997</td>\n",
              "      <td>0.397246</td>\n",
              "      <td>-0.227095</td>\n",
              "      <td>-0.253872</td>\n",
              "      <td>0.223213</td>\n",
              "      <td>0.186916</td>\n",
              "      <td>1.000000</td>\n",
              "      <td>0.003481</td>\n",
              "      <td>0.005347</td>\n",
              "    </tr>\n",
              "    <tr>\n",
              "      <th>alcohol</th>\n",
              "      <td>0.124004</td>\n",
              "      <td>0.012011</td>\n",
              "      <td>-0.125235</td>\n",
              "      <td>-0.008114</td>\n",
              "      <td>0.002615</td>\n",
              "      <td>-0.357985</td>\n",
              "      <td>-0.243375</td>\n",
              "      <td>-0.178184</td>\n",
              "      <td>-0.250513</td>\n",
              "      <td>-0.686570</td>\n",
              "      <td>0.153489</td>\n",
              "      <td>0.003481</td>\n",
              "      <td>1.000000</td>\n",
              "      <td>0.388909</td>\n",
              "    </tr>\n",
              "    <tr>\n",
              "      <th>quality</th>\n",
              "      <td>-0.089352</td>\n",
              "      <td>0.083908</td>\n",
              "      <td>-0.102915</td>\n",
              "      <td>-0.248996</td>\n",
              "      <td>0.100331</td>\n",
              "      <td>-0.063394</td>\n",
              "      <td>-0.122648</td>\n",
              "      <td>-0.042953</td>\n",
              "      <td>-0.076602</td>\n",
              "      <td>-0.287267</td>\n",
              "      <td>0.067353</td>\n",
              "      <td>0.005347</td>\n",
              "      <td>0.388909</td>\n",
              "      <td>1.000000</td>\n",
              "    </tr>\n",
              "  </tbody>\n",
              "</table>\n",
              "</div>"
            ],
            "text/plain": [
              "                      Unnamed: 0      type  ...   alcohol   quality\n",
              "Unnamed: 0              1.000000 -0.728289  ...  0.124004 -0.089352\n",
              "type                   -0.728289  1.000000  ...  0.012011  0.083908\n",
              "fixed acidity           0.237299 -0.470657  ... -0.125235 -0.102915\n",
              "volatile acidity        0.493932 -0.666382  ... -0.008114 -0.248996\n",
              "citric acid            -0.236121  0.208911  ...  0.002615  0.100331\n",
              "residual sugar         -0.221699  0.351560  ... -0.357985 -0.063394\n",
              "chlorides               0.439806 -0.621337  ... -0.243375 -0.122648\n",
              "free sulfur dioxide    -0.330525  0.486668  ... -0.178184 -0.042953\n",
              "total sulfur dioxide   -0.555552  0.702174  ... -0.250513 -0.076602\n",
              "density                 0.201053 -0.422078  ... -0.686570 -0.287267\n",
              "pH                      0.190846 -0.351211  ...  0.153489  0.067353\n",
              "sulphates               0.278905 -0.418650  ...  0.003481  0.005347\n",
              "alcohol                 0.124004  0.012011  ...  1.000000  0.388909\n",
              "quality                -0.089352  0.083908  ...  0.388909  1.000000\n",
              "\n",
              "[14 rows x 14 columns]"
            ]
          },
          "metadata": {},
          "execution_count": 73
        }
      ]
    },
    {
      "cell_type": "code",
      "metadata": {
        "colab": {
          "base_uri": "https://localhost:8080/"
        },
        "id": "BUCGH-umYyix",
        "outputId": "60b84686-d3a1-4c35-cf73-8cd71ee4e906"
      },
      "source": [
        "# Hyperparameter Optimierung von max_depth, criterion, max_features, splitter mit einfacher Validierung\n",
        "trees = []\n",
        "val_scores = []\n",
        "counter = 0\n",
        "mds = range(1,31)\n",
        "cs = [\"gini\", \"entropy\"]\n",
        "mfs = [\"sqrt\", \"log2\", 0.25, 0.5, 0.75, None]\n",
        "sps = [\"best\", \"random\"]\n",
        "for i in mds:\n",
        "  for j in cs:\n",
        "    for k in mfs:\n",
        "      for s in sps:\n",
        "        trees.append(DecisionTreeClassifier(max_depth=i,criterion=j,splitter=s,max_features=k).fit(X_train,y_train))\n",
        "        val_scores.append(trees[counter].score(X_val,y_val))\n",
        "        counter += 1\n",
        "best_index = np.argmax(val_scores)\n",
        "best_tree = trees[best_index].fit(X,y)\n",
        "print(str(best_tree) + \"; valid score: \"+str(val_scores[best_index])+ \"; test score: \"+str(best_tree.score(X_test,y_test)))"
      ],
      "execution_count": null,
      "outputs": [
        {
          "output_type": "stream",
          "name": "stdout",
          "text": [
            "DecisionTreeClassifier(criterion='entropy', max_depth=6, max_features=0.5); valid score: 0.8062015503875969; test score: 0.6859205776173285\n"
          ]
        }
      ]
    },
    {
      "cell_type": "code",
      "metadata": {
        "colab": {
          "base_uri": "https://localhost:8080/"
        },
        "id": "P6rlJglAsISS",
        "outputId": "b8847503-4605-4ebe-d1b8-89c46168875c"
      },
      "source": [
        "# Hyperparameter Optimierung der max_depth mit 5-facher Kreuzvalidierung\n",
        "from sklearn.model_selection import cross_val_score\n",
        "\n",
        "trees = []\n",
        "mean_cross_val_scores = []\n",
        "min_tree_depth = 1\n",
        "max_tree_depth = 31\n",
        "for i in range(min_tree_depth,max_tree_depth):\n",
        "  # wir können hier zur Bewertung jetzt alle Daten aus dem Trainingsset nehmen und brauchen keine Unterteilung in Train/Validation mehr; \n",
        "  # außerdem fitten wir den Baum nicht, das erledigt die Fkt cross_val_score automatisch\n",
        "  trees.append(DecisionTreeClassifier(max_depth=i)) \n",
        "  mean_cross_val_scores.append(np.mean(cross_val_score(trees[i-min_tree_depth],X,y,cv=5)))\n",
        "best_index = np.argmax(mean_cross_val_scores)\n",
        "best_tree = trees[best_index].fit(X,y)\n",
        "print(str(best_tree) + \"; mean cross valid score: \"+str(best_tree.score(X_val,y_val))+ \"; test score: \"+str(best_tree.score(X_test,y_test)))"
      ],
      "execution_count": null,
      "outputs": [
        {
          "output_type": "stream",
          "name": "stdout",
          "text": [
            "DecisionTreeClassifier(max_depth=2); mean cross valid score: 0.7906976744186046; test score: 0.7354306343476018\n"
          ]
        }
      ]
    },
    {
      "cell_type": "code",
      "metadata": {
        "colab": {
          "base_uri": "https://localhost:8080/"
        },
        "id": "vvXRF775tDzI",
        "outputId": "0ba8e676-124e-465f-ccea-6c39308d8bc0"
      },
      "source": [
        "# Hyperparameter Optimierung von max_depth, criterion, max_features, splitter mit 5-facher Kreuzvalidierung\n",
        "from sklearn.model_selection import cross_val_score\n",
        "\n",
        "trees = []\n",
        "mean_cross_val_scores = []\n",
        "counter = 0\n",
        "mds = range(1,31)\n",
        "cs = [\"gini\", \"entropy\"]\n",
        "mfs = [\"sqrt\", \"log2\", 0.25, 0.5, 0.75, None]\n",
        "sps = [\"best\", \"random\"]\n",
        "for i in mds:\n",
        "  for j in cs:\n",
        "    for k in mfs:\n",
        "      for s in sps:\n",
        "        trees.append(DecisionTreeClassifier(max_depth=i,criterion=j,splitter=s,max_features=k)) \n",
        "        mean_cross_val_scores.append(np.mean(cross_val_score(trees[counter],X,y,cv=5)))\n",
        "        counter += 1\n",
        "best_index = np.argmax(mean_cross_val_scores)\n",
        "best_tree = trees[best_index].fit(X,y)\n",
        "print(str(best_tree) + \"; mean cross valid score: \"+str(best_tree.score(X_val,y_val))+ \"; test score: \"+str(best_tree.score(X_test,y_test)))"
      ],
      "execution_count": null,
      "outputs": [
        {
          "output_type": "stream",
          "name": "stdout",
          "text": [
            "DecisionTreeClassifier(max_depth=2); mean cross valid score: 0.7906976744186046; test score: 0.7354306343476018\n"
          ]
        }
      ]
    },
    {
      "cell_type": "code",
      "metadata": {
        "colab": {
          "base_uri": "https://localhost:8080/"
        },
        "id": "sS9LkPTRvUHh",
        "outputId": "6b880ae5-d759-43ad-fbb8-1c9d94d7805f"
      },
      "source": [
        "# Hyperparameter Optimierung der max_depth mit 5-facher Kreuzvalidierung; Optimiert wird dieses mal nach \n",
        "from sklearn.model_selection import cross_val_score\n",
        "from sklearn.metrics import f1_score\n",
        "\n",
        "trees = []\n",
        "mean_cross_val_scores = []\n",
        "min_tree_depth = 1\n",
        "max_tree_depth = 31\n",
        "for i in range(min_tree_depth,max_tree_depth):\n",
        "  # wir können hier zur Bewertung jetzt alle Daten aus dem Trainingsset nehmen und brauchen keine Unterteilung in Train/Validation mehr; \n",
        "  # außerdem fitten wir den Baum nicht, das erledigt die Fkt cross_val_score automatisch\n",
        "  trees.append(DecisionTreeClassifier(max_depth=i)) \n",
        "  mean_cross_val_scores.append(np.mean(cross_val_score(trees[i-min_tree_depth],X,y,cv=5,scoring='f1_weighted')))\n",
        "best_index = np.argmax(mean_cross_val_scores)\n",
        "best_tree = trees[best_index].fit(X,y)\n",
        "y_test_predictions = best_tree.predict(X_test)\n",
        "print(str(best_tree) + \"; mean cross valid score (f1_weighted): \"+str(best_tree.score(X_val,y_val))+ \"; test score (f1_weighted): \"+str(f1_score(y_test,y_test_predictions,average='weighted')))"
      ],
      "execution_count": null,
      "outputs": [
        {
          "output_type": "stream",
          "name": "stdout",
          "text": [
            "DecisionTreeClassifier(max_depth=2); mean cross valid score (f1_weighted): 0.7906976744186046; test score (f1_weighted): 0.7290780845904542\n"
          ]
        }
      ]
    }
  ]
}